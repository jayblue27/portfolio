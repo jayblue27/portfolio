{
 "cells": [
  {
   "cell_type": "markdown",
   "metadata": {},
   "source": [
    "# 잡플래닛 스크레이핑\n",
    "- IT기업 리스트 \n",
    "- 기업별 리뷰데이터 "
   ]
  },
  {
   "cell_type": "markdown",
   "metadata": {},
   "source": [
    "# 라이브러리"
   ]
  },
  {
   "cell_type": "code",
   "execution_count": null,
   "metadata": {
    "code_folding": [
     0
    ]
   },
   "outputs": [],
   "source": [
    "# dataframe 관련 라이브러리\n",
    "import pandas as pd\n",
    "import numpy as np\n",
    "\n",
    "# 스크레이핑 관련 라이브러리\n",
    "from bs4 import BeautifulSoup \n",
    "import requests\n",
    "from concurrent.futures import ThreadPoolExecutor #멀티스레드\n",
    "import math #로딩 페이지 수 계산 용\n",
    "\n",
    "import os"
   ]
  },
  {
   "cell_type": "markdown",
   "metadata": {},
   "source": [
    "# 데이터 수집"
   ]
  },
  {
   "cell_type": "markdown",
   "metadata": {},
   "source": [
    "## 기업 리스트"
   ]
  },
  {
   "cell_type": "code",
   "execution_count": null,
   "metadata": {
    "code_folding": [
     0
    ]
   },
   "outputs": [],
   "source": [
    "# 잡플래닛 로그인 관련 정보\n",
    "user_agent = 'Mozilla/5.0 (Windows NT 10.0; Win64; x64) AppleWebKit/537.36 (KHTML, like Gecko) Chrome/78.0.3904.97 Safari/537.36'\n",
    "headers = {'Content-type': 'application/json', 'Accept': 'text/plain', 'User-Agent':user_agent}\n",
    "login_data = {'user':{'email':'', 'password':'', 'remember_me':'true'}} # 본인의 계정정보 입력\n",
    "\n",
    "#회사목록 url-list\n",
    "URLs = [f'https://www.jobplanet.co.kr/companies?industry_id=700&page={page_num}' for page_num in range(1,442)]\n",
    "\n",
    "def get_url(url):\n",
    "    client = requests.session()\n",
    "    login_response = client.post(url, json = login_data, headers = headers)\n",
    "    return requests.get(url)\n",
    "\n",
    "with ThreadPoolExecutor(max_workers=10) as pool:\n",
    "    response_list = list(pool.map(get_url, URLs))\n",
    "\n",
    "cnt = 0\n",
    "# 데이터 프레임 형성\n",
    "df_company_list = pd.DataFrame(columns=(\"회사명\", \"회사코드\", \"업종\", \"본사위치\", \"리뷰수\", \"평균별점\", \"평균연봉\"))\n",
    "\n",
    "for response in response_list:\n",
    "    soup = BeautifulSoup(response.text, 'html.parser')\n",
    "    sites = soup.find_all('div', {'class' :'ty3_wrap'})\n",
    "\n",
    "    for site in sites:\n",
    "        # select는 리스트로 들어오기 때문에 인덱싱 해야함.\n",
    "        name = site.select('dt > a')[0].get_text()\n",
    "        code = site.button['data-company_id']        \n",
    "        category = site.select('dd > span')[0].get_text()\n",
    "        location = site.select('dd > span')[2].get_text()\n",
    "        num_reviews = site.select('dl > dt')[1].get_text().rstrip('개의 리뷰').replace(',','')\n",
    "        avg_star = site.select('span.gfvalue')[0].get_text()\n",
    "        avg_salary = site.select('a > strong')[0].get_text().replace(',','')\n",
    "\n",
    "        df_company_list.loc[cnt] = [name, code, category, location, num_reviews, avg_star, avg_salary]\n",
    "        cnt += 1"
   ]
  },
  {
   "cell_type": "markdown",
   "metadata": {},
   "source": [
    "- review 수 30개 미만 데이터는 제거\n",
    "    - 중심극한 정리에서 정규분포 가정이 성립하기위한 최소 표본의 크기는 30개 "
   ]
  },
  {
   "cell_type": "code",
   "execution_count": null,
   "metadata": {
    "code_folding": [
     0
    ]
   },
   "outputs": [],
   "source": [
    "#30개의 마지막은 index 1200번\n",
    "df_company_list[df_company_list.리뷰수 == '30']\n",
    "\n",
    "# 리뷰 30개 미만 기업 데이터 제외\n",
    "df_company_list = df_company_list[:1201]"
   ]
  },
  {
   "cell_type": "code",
   "execution_count": null,
   "metadata": {
    "code_folding": []
   },
   "outputs": [],
   "source": [
    "# 기업 리스트 csv파일 내보내기 \n",
    "# df_company_list.to_csv('./input/company_list.csv')"
   ]
  },
  {
   "cell_type": "markdown",
   "metadata": {},
   "source": [
    "## 기업별 리뷰데이터"
   ]
  },
  {
   "cell_type": "code",
   "execution_count": null,
   "metadata": {
    "scrolled": true
   },
   "outputs": [],
   "source": [
    "# 기업 리스트 csv 불러오기\n",
    "df_company_list = pd.read_csv('./input/df_company_list.csv', index_col=0)\n",
    "df_company_list.head()"
   ]
  },
  {
   "cell_type": "markdown",
   "metadata": {},
   "source": [
    "- 위에서 수집한 기업 리스트를 이용하여 url을 변경하며 스크레이핑 진행"
   ]
  },
  {
   "cell_type": "code",
   "execution_count": null,
   "metadata": {
    "code_folding": [
     0
    ],
    "scrolled": false
   },
   "outputs": [],
   "source": [
    "# 스크레이핑시 url에 (주), (유), (재) 가 없는 회사명이 들어가므로\n",
    "# 리스트에 있는 회사명의 (주), (유), (재) 를 제외한 회사명 컬럼 생성\n",
    "df_company_list['회사_new'] = df_company_list['회사명'].str.replace(r'\\([가-힣]\\)', '')\n",
    "df_company_list.head(3)"
   ]
  },
  {
   "cell_type": "code",
   "execution_count": null,
   "metadata": {
    "code_folding": [
     0
    ]
   },
   "outputs": [],
   "source": [
    "for code, name, reviews in zip(df_company_list['회사코드'],df_company_list['회사_new'], df_company_list['리뷰수']):\n",
    "    print(code,name,reviews)"
   ]
  },
  {
   "cell_type": "code",
   "execution_count": null,
   "metadata": {
    "code_folding": [
     0
    ]
   },
   "outputs": [],
   "source": [
    "# 잡플래닛 로그인 \n",
    "user_agent = 'Mozilla/5.0 (Windows NT 10.0; Win64; x64) AppleWebKit/537.36 (KHTML, like Gecko) Chrome/78.0.3904.97 Safari/537.36'\n",
    "headers = {'Content-type': 'application/json', 'Accept': 'text/plain', 'User-Agent':user_agent}\n",
    "login_data = {'user':{'email':'', 'password':'', 'remember_me':'true'}} # 본인의 계정정보 입력\n",
    "\n",
    "client = requests.session()\n",
    "URL = 'https://www.jobplanet.co.kr/users/sign_in'\n",
    "login_response = client.post(URL, json = login_data, headers = headers)\n",
    "\n",
    "cnt = 0\n",
    "순번 = 0\n",
    "\n",
    "for code, name, num in zip(company_code_list, company_list, review_nums):    \n",
    "    \n",
    "    # 회사별 max page 생성      \n",
    "    max_page_num = math.ceil(int(num) / 5)\n",
    "    \n",
    "    진행률 = 1       \n",
    "    \n",
    "    print('현재 진행중인 기업명 :',순번,name)\n",
    "    for page_num in range(1,max_page_num+1):\n",
    "        URL = f'https://www.jobplanet.co.kr/companies/{code}/reviews/{name}?page={page_num}'\n",
    "        index = client.get(URL)\n",
    "        # soup = BeautifulSoup(index.text, 'html.parser')  -> <br> 태그 때문에 여러줄 데이터 받는게 어려움\n",
    "        soup = BeautifulSoup(index.text, 'html5lib') # br 태그로 여러줄 데이터가 잘려서 나오는거 방지\n",
    "        sites = soup.find_all('section', {'class' :'content_ty4 video_ad_content'})\n",
    "        \n",
    "        for site in sites:\n",
    "            # 회사명, 코드\n",
    "            회사명 = name\n",
    "            회사코드 = code\n",
    "            \n",
    "            # 직군, 전/현직원 구분, 근무지역(본사 아니면 불만 있는 경우 있음), 작성년월\n",
    "            # 근무지역 결측치 발생시 예외처리\n",
    "            \n",
    "            if site.select('div > span')[0].get_text() == '':\n",
    "                직군 = np.NaN\n",
    "                전현직 = '현직원'\n",
    "                근무지역 = np.NaN\n",
    "                작성월 = np.NaN\n",
    "            \n",
    "            elif site.select('div > span')[1].get_text() == '|':\n",
    "                직군 = np.NaN\n",
    "                전현직 = '현직원'\n",
    "                근무지역 = np.NaN\n",
    "                작성월 = site.select('div > span')[2].get_text()\n",
    "\n",
    "            \n",
    "            elif site.select('div > span')[5].get_text() == '|':\n",
    "                직군 = site.select('div > span')[1].get_text()\n",
    "                전현직 = site.select('div > span')[3].get_text().strip()\n",
    "                근무지역 = np.NaN          \n",
    "                작성월 = site.select('div > span')[6].get_text()\n",
    "                        \n",
    "            \n",
    "            else:\n",
    "                직군 = site.select('div > span')[1].get_text()\n",
    "                전현직 = site.select('div > span')[3].get_text().strip()\n",
    "                근무지역 = site.select('div > span')[5].get_text()            \n",
    "                \n",
    "                try:\n",
    "                    작성월 = site.select('div > span')[7].get_text()\n",
    "                except:\n",
    "                    작성원 = np.NaN\n",
    "\n",
    "\n",
    "\n",
    "            #별점, 승진 기회 및 가능성, 복지 및 급여, 업무와 삶의 균형, 사내문화, 경영진 (점수)    \n",
    "            별점 = int( site.select('div > dl > dd > div > div')[0]['style'][6:].replace('%;','') ) // 20\n",
    "            승진 = int( site.select('div > dl > dd > div > div')[1]['style'][6:].replace('%;','') ) // 20\n",
    "            복지 = int( site.select('div > dl > dd > div > div')[2]['style'][6:].replace('%;','') ) // 20\n",
    "            업무 = int( site.select('div > dl > dd > div > div')[3]['style'][6:].replace('%;','') ) // 20\n",
    "            문화 = int( site.select('div > dl > dd > div > div')[4]['style'][6:].replace('%;','') ) // 20\n",
    "            경영진점수 = int( site.select('div > dl > dd > div > div')[5]['style'][6:].replace('%;','') ) // 20\n",
    "            \n",
    "            # print(회사명, 회사코드, 직군, 전현직, 근무지역, 작성월, 별점, 승진, 복지, 업무, 문화, 경영진)\n",
    "            #요약\n",
    "            요약 = site.select('div > h2')[0].get_text().strip('\\nBEST\\n \" \"\\n ')\n",
    "            # print(요약)\n",
    "            장점 = site.select('div > div > div > dl > dd > span')[0].get_text()\n",
    "            단점 = site.select('div > div > div > dl > dd > span')[1].get_text()\n",
    "            경영진 = site.select('div > div > div > dl > dd > span')[2].get_text()            \n",
    "            try:           \n",
    "                일년후 = site.select('div > p > strong')[0].get_text()\n",
    "            except:\n",
    "                일년후 = np.NaN\n",
    "            try:\n",
    "                추천여부 = site.select('p > em')[0].get_text()\n",
    "            except:\n",
    "                추천여부 = '비추천'\n",
    "            게시글추천수 = int(site.select('a > span')[1].get_text())\n",
    "\n",
    "            df_reviews.loc[cnt] = [회사명, 회사코드, 직군, 전현직, 근무지역, 작성월, 별점, 승진, 복지,\n",
    "                                   업무, 문화, 경영진점수, 요약, 장점, 단점, 경영진, 일년후, 추천여부, 게시글추천수\n",
    "                                   ]\n",
    "            cnt +=1\n",
    "            \n",
    "            \n",
    "            if 진행률 == reviews :\n",
    "                print(진행률,'/',reviews,'개 완료')\n",
    "                display(df_reviews.tail(1))\n",
    "                진행률+=1\n",
    "    순번 += 1\n",
    "\n",
    "# 내보내기\n",
    "df_reviews.to_csv('./input/df_reviews.csv')"
   ]
  }
 ],
 "metadata": {
  "interpreter": {
   "hash": "b9254f8ba7ad5e35954a707eb0de9bbd6526f2e62ee81a552456cdcdef651d9c"
  },
  "kernelspec": {
   "display_name": "Python 3 (ipykernel)",
   "language": "python",
   "name": "python3"
  },
  "language_info": {
   "codemirror_mode": {
    "name": "ipython",
    "version": 3
   },
   "file_extension": ".py",
   "mimetype": "text/x-python",
   "name": "python",
   "nbconvert_exporter": "python",
   "pygments_lexer": "ipython3",
   "version": "3.9.7"
  },
  "toc": {
   "base_numbering": 1,
   "nav_menu": {},
   "number_sections": true,
   "sideBar": true,
   "skip_h1_title": false,
   "title_cell": "Table of Contents",
   "title_sidebar": "Contents",
   "toc_cell": false,
   "toc_position": {},
   "toc_section_display": true,
   "toc_window_display": false
  }
 },
 "nbformat": 4,
 "nbformat_minor": 2
}
