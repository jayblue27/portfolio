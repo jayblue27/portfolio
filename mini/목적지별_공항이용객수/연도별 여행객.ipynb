{
 "cells": [
  {
   "cell_type": "markdown",
   "id": "eceb0c45",
   "metadata": {},
   "source": [
    "# 월별 코로나 확진자 수 및 항공여객 수 "
   ]
  },
  {
   "cell_type": "markdown",
   "id": "55cfed24",
   "metadata": {},
   "source": [
    "자료출처\n",
    "- 국가통계포털 (https://kosis.kr/serviceInfo/newContrainDataDetail.do?boardIdx=2005006&boardOrgId=381)\n",
    "- 코로나19(COVID-19)실시간 상황판 (https://coronaboard.kr/)"
   ]
  },
  {
   "cell_type": "code",
   "execution_count": 1,
   "id": "a0eb1040",
   "metadata": {},
   "outputs": [],
   "source": [
    "import numpy as np\n",
    "import pandas as pd\n",
    "\n",
    "import matplotlib.pyplot as plt\n",
    "from matplotlib import font_manager, rc\n",
    "import matplotlib as mpl\n",
    "import seaborn as sns\n",
    "\n",
    "from datetime import datetime\n",
    "\n",
    "# 한글 폰트 설정\n",
    "font_path = \"c:/Windows/Fonts/malgun.ttf\"  # 폰트 파일의 위치\n",
    "font_name = font_manager.FontProperties(fname=font_path).get_name()\n",
    "rc(\"font\", family=font_name)\n",
    "\n",
    "# 마이너스 기호 에러\n",
    "mpl.rcParams['axes.unicode_minus'] = False"
   ]
  },
  {
   "cell_type": "markdown",
   "id": "91b222aa",
   "metadata": {},
   "source": [
    "# 데이터 로드 및 전처리"
   ]
  },
  {
   "cell_type": "markdown",
   "id": "6c495b48",
   "metadata": {},
   "source": [
    "## 국내 항공여객 data"
   ]
  },
  {
   "cell_type": "code",
   "execution_count": 2,
   "id": "891f6248",
   "metadata": {
    "scrolled": true
   },
   "outputs": [
    {
     "data": {
      "text/html": [
       "<div>\n",
       "<style scoped>\n",
       "    .dataframe tbody tr th:only-of-type {\n",
       "        vertical-align: middle;\n",
       "    }\n",
       "\n",
       "    .dataframe tbody tr th {\n",
       "        vertical-align: top;\n",
       "    }\n",
       "\n",
       "    .dataframe thead th {\n",
       "        text-align: right;\n",
       "    }\n",
       "</style>\n",
       "<table border=\"1\" class=\"dataframe\">\n",
       "  <thead>\n",
       "    <tr style=\"text-align: right;\">\n",
       "      <th></th>\n",
       "      <th>노선별</th>\n",
       "      <th>항공사별</th>\n",
       "      <th>도착출발별</th>\n",
       "      <th>시점</th>\n",
       "      <th>여객 (명)</th>\n",
       "    </tr>\n",
       "  </thead>\n",
       "  <tbody>\n",
       "    <tr>\n",
       "      <th>0</th>\n",
       "      <td>제주-청주</td>\n",
       "      <td>계</td>\n",
       "      <td>도착</td>\n",
       "      <td>2020.02</td>\n",
       "      <td>52635</td>\n",
       "    </tr>\n",
       "    <tr>\n",
       "      <th>1</th>\n",
       "      <td>제주-청주</td>\n",
       "      <td>계</td>\n",
       "      <td>도착</td>\n",
       "      <td>2020.03</td>\n",
       "      <td>37881</td>\n",
       "    </tr>\n",
       "    <tr>\n",
       "      <th>2</th>\n",
       "      <td>제주-청주</td>\n",
       "      <td>계</td>\n",
       "      <td>도착</td>\n",
       "      <td>2020.04</td>\n",
       "      <td>41059</td>\n",
       "    </tr>\n",
       "  </tbody>\n",
       "</table>\n",
       "</div>"
      ],
      "text/plain": [
       "     노선별 항공사별 도착출발별       시점  여객 (명)\n",
       "0  제주-청주    계    도착  2020.02   52635\n",
       "1  제주-청주    계    도착  2020.03   37881\n",
       "2  제주-청주    계    도착  2020.04   41059"
      ]
     },
     "execution_count": 2,
     "metadata": {},
     "output_type": "execute_result"
    }
   ],
   "source": [
    "dom = pd.read_csv('./input/domestic.csv', encoding='cp949')\n",
    "dom.head(3)"
   ]
  },
  {
   "cell_type": "code",
   "execution_count": 3,
   "id": "b555e824",
   "metadata": {
    "code_folding": [
     0
    ]
   },
   "outputs": [],
   "source": [
    "def formatting(x):\n",
    "    '''날짜형식변경 YYYY.mm(float) -> YYYY년 mm월'''\n",
    "    return datetime.strptime(\"{:.2f}\".format(x), \"%Y.%m\").strftime('%Y년 %m월')"
   ]
  },
  {
   "cell_type": "markdown",
   "id": "822dfb64",
   "metadata": {},
   "source": [
    "날짜 자료형 변경"
   ]
  },
  {
   "cell_type": "code",
   "execution_count": 4,
   "id": "7fdb844c",
   "metadata": {
    "scrolled": false
   },
   "outputs": [
    {
     "data": {
      "text/plain": [
       "0    2020년 02월\n",
       "1    2020년 03월\n",
       "2    2020년 04월\n",
       "Name: 시점, dtype: object"
      ]
     },
     "execution_count": 4,
     "metadata": {},
     "output_type": "execute_result"
    }
   ],
   "source": [
    "dom['시점'] = dom['시점'].apply(formatting)\n",
    "dom['시점'].head(3)"
   ]
  },
  {
   "cell_type": "markdown",
   "id": "eef751fa",
   "metadata": {},
   "source": [
    "제주도 도착 데이터만 추출\n",
    "- 도착출발별의 출발, 도착은 출발지 기준으로 작성되어있음\n",
    "    - case1 : 도착지 -> 제주, 도착출발 -> 출발\n",
    "    - case2 : 출발지 -> 제주, 도착출발 -> 도착 "
   ]
  },
  {
   "cell_type": "code",
   "execution_count": 5,
   "id": "c4cf4c7d",
   "metadata": {
    "scrolled": true
   },
   "outputs": [
    {
     "data": {
      "text/html": [
       "<div>\n",
       "<style scoped>\n",
       "    .dataframe tbody tr th:only-of-type {\n",
       "        vertical-align: middle;\n",
       "    }\n",
       "\n",
       "    .dataframe tbody tr th {\n",
       "        vertical-align: top;\n",
       "    }\n",
       "\n",
       "    .dataframe thead th {\n",
       "        text-align: right;\n",
       "    }\n",
       "</style>\n",
       "<table border=\"1\" class=\"dataframe\">\n",
       "  <thead>\n",
       "    <tr style=\"text-align: right;\">\n",
       "      <th></th>\n",
       "      <th>도착출발별</th>\n",
       "      <th>시점</th>\n",
       "      <th>여객 (명)</th>\n",
       "      <th>출발지</th>\n",
       "      <th>도착지</th>\n",
       "    </tr>\n",
       "  </thead>\n",
       "  <tbody>\n",
       "    <tr>\n",
       "      <th>0</th>\n",
       "      <td>도착</td>\n",
       "      <td>2020년 02월</td>\n",
       "      <td>52635</td>\n",
       "      <td>제주</td>\n",
       "      <td>청주</td>\n",
       "    </tr>\n",
       "    <tr>\n",
       "      <th>1</th>\n",
       "      <td>도착</td>\n",
       "      <td>2020년 03월</td>\n",
       "      <td>37881</td>\n",
       "      <td>제주</td>\n",
       "      <td>청주</td>\n",
       "    </tr>\n",
       "    <tr>\n",
       "      <th>2</th>\n",
       "      <td>도착</td>\n",
       "      <td>2020년 04월</td>\n",
       "      <td>41059</td>\n",
       "      <td>제주</td>\n",
       "      <td>청주</td>\n",
       "    </tr>\n",
       "  </tbody>\n",
       "</table>\n",
       "</div>"
      ],
      "text/plain": [
       "  도착출발별         시점  여객 (명) 출발지 도착지\n",
       "0    도착  2020년 02월   52635  제주  청주\n",
       "1    도착  2020년 03월   37881  제주  청주\n",
       "2    도착  2020년 04월   41059  제주  청주"
      ]
     },
     "execution_count": 5,
     "metadata": {},
     "output_type": "execute_result"
    }
   ],
   "source": [
    "# 노선별 분리\n",
    "dom['출발지'] = dom['노선별'].apply(lambda x:x.split('-')[0])\n",
    "dom['도착지'] = dom['노선별'].apply(lambda x:x.split('-')[1])\n",
    "dom = dom.drop(['노선별','항공사별'], axis=1)\n",
    "dom.head(3)"
   ]
  },
  {
   "cell_type": "code",
   "execution_count": 6,
   "id": "12f6ec3f",
   "metadata": {
    "scrolled": true
   },
   "outputs": [],
   "source": [
    "# case 1 추출\n",
    "cond1 = dom['도착출발별'] == '출발'\n",
    "cond2 = dom['도착지'] == '제주'\n",
    "\n",
    "dom1 = dom[cond1 & cond2]"
   ]
  },
  {
   "cell_type": "code",
   "execution_count": 7,
   "id": "43384c06",
   "metadata": {
    "scrolled": true
   },
   "outputs": [],
   "source": [
    "# case 2 추출\n",
    "cond1 = dom['도착출발별'] == '도착'\n",
    "cond2 = dom['출발지'] == '제주'\n",
    "\n",
    "dom2 = dom[cond1 & cond2]"
   ]
  },
  {
   "cell_type": "markdown",
   "id": "0965db93",
   "metadata": {},
   "source": [
    "월별데이터 생성"
   ]
  },
  {
   "cell_type": "code",
   "execution_count": 8,
   "id": "b97ee703",
   "metadata": {
    "scrolled": true
   },
   "outputs": [
    {
     "data": {
      "text/html": [
       "<div>\n",
       "<style scoped>\n",
       "    .dataframe tbody tr th:only-of-type {\n",
       "        vertical-align: middle;\n",
       "    }\n",
       "\n",
       "    .dataframe tbody tr th {\n",
       "        vertical-align: top;\n",
       "    }\n",
       "\n",
       "    .dataframe thead th {\n",
       "        text-align: right;\n",
       "    }\n",
       "</style>\n",
       "<table border=\"1\" class=\"dataframe\">\n",
       "  <thead>\n",
       "    <tr style=\"text-align: right;\">\n",
       "      <th></th>\n",
       "      <th>시점</th>\n",
       "      <th>여객 (명)</th>\n",
       "      <th>지역별</th>\n",
       "      <th>여객 (천 명)</th>\n",
       "    </tr>\n",
       "  </thead>\n",
       "  <tbody>\n",
       "    <tr>\n",
       "      <th>0</th>\n",
       "      <td>2020년 02월</td>\n",
       "      <td>637719</td>\n",
       "      <td>제주</td>\n",
       "      <td>637.72</td>\n",
       "    </tr>\n",
       "    <tr>\n",
       "      <th>1</th>\n",
       "      <td>2020년 03월</td>\n",
       "      <td>463010</td>\n",
       "      <td>제주</td>\n",
       "      <td>463.01</td>\n",
       "    </tr>\n",
       "    <tr>\n",
       "      <th>2</th>\n",
       "      <td>2020년 04월</td>\n",
       "      <td>552602</td>\n",
       "      <td>제주</td>\n",
       "      <td>552.60</td>\n",
       "    </tr>\n",
       "  </tbody>\n",
       "</table>\n",
       "</div>"
      ],
      "text/plain": [
       "          시점  여객 (명) 지역별  여객 (천 명)\n",
       "0  2020년 02월  637719  제주    637.72\n",
       "1  2020년 03월  463010  제주    463.01\n",
       "2  2020년 04월  552602  제주    552.60"
      ]
     },
     "execution_count": 8,
     "metadata": {},
     "output_type": "execute_result"
    }
   ],
   "source": [
    "# data concat\n",
    "df_jeju = pd.concat([dom1, dom2])\n",
    "df_jeju = df_jeju.groupby('시점').sum().reset_index()\n",
    "df_jeju['지역별'] = '제주'\n",
    "df_jeju['여객 (천 명)'] = round(df_jeju['여객 (명)']/1000,2)\n",
    "df_jeju.head(3)"
   ]
  },
  {
   "cell_type": "markdown",
   "id": "b0b84913",
   "metadata": {},
   "source": [
    "## 국외 항공여객 data"
   ]
  },
  {
   "cell_type": "code",
   "execution_count": 9,
   "id": "e5063898",
   "metadata": {
    "scrolled": false
   },
   "outputs": [
    {
     "data": {
      "text/html": [
       "<div>\n",
       "<style scoped>\n",
       "    .dataframe tbody tr th:only-of-type {\n",
       "        vertical-align: middle;\n",
       "    }\n",
       "\n",
       "    .dataframe tbody tr th {\n",
       "        vertical-align: top;\n",
       "    }\n",
       "\n",
       "    .dataframe thead th {\n",
       "        text-align: right;\n",
       "    }\n",
       "</style>\n",
       "<table border=\"1\" class=\"dataframe\">\n",
       "  <thead>\n",
       "    <tr style=\"text-align: right;\">\n",
       "      <th></th>\n",
       "      <th>지역별</th>\n",
       "      <th>시점</th>\n",
       "      <th>도착출발별</th>\n",
       "      <th>여객 (명)</th>\n",
       "    </tr>\n",
       "  </thead>\n",
       "  <tbody>\n",
       "    <tr>\n",
       "      <th>0</th>\n",
       "      <td>일본</td>\n",
       "      <td>2013.01</td>\n",
       "      <td>도착</td>\n",
       "      <td>436029</td>\n",
       "    </tr>\n",
       "    <tr>\n",
       "      <th>1</th>\n",
       "      <td>일본</td>\n",
       "      <td>2013.02</td>\n",
       "      <td>도착</td>\n",
       "      <td>473079</td>\n",
       "    </tr>\n",
       "    <tr>\n",
       "      <th>2</th>\n",
       "      <td>일본</td>\n",
       "      <td>2013.03</td>\n",
       "      <td>도착</td>\n",
       "      <td>527808</td>\n",
       "    </tr>\n",
       "  </tbody>\n",
       "</table>\n",
       "</div>"
      ],
      "text/plain": [
       "  지역별       시점 도착출발별  여객 (명)\n",
       "0  일본  2013.01    도착  436029\n",
       "1  일본  2013.02    도착  473079\n",
       "2  일본  2013.03    도착  527808"
      ]
     },
     "execution_count": 9,
     "metadata": {},
     "output_type": "execute_result"
    }
   ],
   "source": [
    "inter = pd.read_csv('./input/inter.csv', encoding='cp949')\n",
    "inter.head(3)"
   ]
  },
  {
   "cell_type": "markdown",
   "id": "db943a18",
   "metadata": {},
   "source": [
    "날짜 자료형 변경"
   ]
  },
  {
   "cell_type": "code",
   "execution_count": 10,
   "id": "88bfb3ae",
   "metadata": {
    "scrolled": true
   },
   "outputs": [
    {
     "data": {
      "text/html": [
       "<div>\n",
       "<style scoped>\n",
       "    .dataframe tbody tr th:only-of-type {\n",
       "        vertical-align: middle;\n",
       "    }\n",
       "\n",
       "    .dataframe tbody tr th {\n",
       "        vertical-align: top;\n",
       "    }\n",
       "\n",
       "    .dataframe thead th {\n",
       "        text-align: right;\n",
       "    }\n",
       "</style>\n",
       "<table border=\"1\" class=\"dataframe\">\n",
       "  <thead>\n",
       "    <tr style=\"text-align: right;\">\n",
       "      <th></th>\n",
       "      <th>지역별</th>\n",
       "      <th>시점</th>\n",
       "      <th>여객 (명)</th>\n",
       "    </tr>\n",
       "  </thead>\n",
       "  <tbody>\n",
       "    <tr>\n",
       "      <th>0</th>\n",
       "      <td>일본</td>\n",
       "      <td>2013년 01월</td>\n",
       "      <td>436029</td>\n",
       "    </tr>\n",
       "    <tr>\n",
       "      <th>1</th>\n",
       "      <td>일본</td>\n",
       "      <td>2013년 02월</td>\n",
       "      <td>473079</td>\n",
       "    </tr>\n",
       "    <tr>\n",
       "      <th>2</th>\n",
       "      <td>일본</td>\n",
       "      <td>2013년 03월</td>\n",
       "      <td>527808</td>\n",
       "    </tr>\n",
       "  </tbody>\n",
       "</table>\n",
       "</div>"
      ],
      "text/plain": [
       "  지역별         시점  여객 (명)\n",
       "0  일본  2013년 01월  436029\n",
       "1  일본  2013년 02월  473079\n",
       "2  일본  2013년 03월  527808"
      ]
     },
     "execution_count": 10,
     "metadata": {},
     "output_type": "execute_result"
    }
   ],
   "source": [
    "inter['시점'] = inter['시점'].apply(formatting)\n",
    "inter = inter.drop('도착출발별', axis=1)\n",
    "inter.head(3)"
   ]
  },
  {
   "cell_type": "markdown",
   "id": "0d6a8e8f",
   "metadata": {},
   "source": [
    "주요여행지 외 지역(기타,대양주,중동,아프리카)제거"
   ]
  },
  {
   "cell_type": "code",
   "execution_count": 11,
   "id": "b48870ed",
   "metadata": {
    "scrolled": true
   },
   "outputs": [
    {
     "data": {
      "text/html": [
       "<div>\n",
       "<style scoped>\n",
       "    .dataframe tbody tr th:only-of-type {\n",
       "        vertical-align: middle;\n",
       "    }\n",
       "\n",
       "    .dataframe tbody tr th {\n",
       "        vertical-align: top;\n",
       "    }\n",
       "\n",
       "    .dataframe thead th {\n",
       "        text-align: right;\n",
       "    }\n",
       "</style>\n",
       "<table border=\"1\" class=\"dataframe\">\n",
       "  <thead>\n",
       "    <tr style=\"text-align: right;\">\n",
       "      <th></th>\n",
       "      <th>지역별</th>\n",
       "      <th>시점</th>\n",
       "      <th>여객 (명)</th>\n",
       "    </tr>\n",
       "  </thead>\n",
       "  <tbody>\n",
       "    <tr>\n",
       "      <th>0</th>\n",
       "      <td>일본</td>\n",
       "      <td>2013년 01월</td>\n",
       "      <td>436029</td>\n",
       "    </tr>\n",
       "    <tr>\n",
       "      <th>1</th>\n",
       "      <td>일본</td>\n",
       "      <td>2013년 02월</td>\n",
       "      <td>473079</td>\n",
       "    </tr>\n",
       "    <tr>\n",
       "      <th>2</th>\n",
       "      <td>일본</td>\n",
       "      <td>2013년 03월</td>\n",
       "      <td>527808</td>\n",
       "    </tr>\n",
       "  </tbody>\n",
       "</table>\n",
       "</div>"
      ],
      "text/plain": [
       "  지역별         시점  여객 (명)\n",
       "0  일본  2013년 01월  436029\n",
       "1  일본  2013년 02월  473079\n",
       "2  일본  2013년 03월  527808"
      ]
     },
     "execution_count": 11,
     "metadata": {},
     "output_type": "execute_result"
    }
   ],
   "source": [
    "cond = inter['지역별'].isin(['기타','대양주','중동','아프리카'])\n",
    "\n",
    "inter = inter[~cond]\n",
    "inter.head(3)"
   ]
  },
  {
   "cell_type": "markdown",
   "id": "fecba471",
   "metadata": {},
   "source": [
    "월별데이터 생성"
   ]
  },
  {
   "cell_type": "code",
   "execution_count": 12,
   "id": "01956d7d",
   "metadata": {
    "scrolled": false
   },
   "outputs": [
    {
     "data": {
      "text/html": [
       "<div>\n",
       "<style scoped>\n",
       "    .dataframe tbody tr th:only-of-type {\n",
       "        vertical-align: middle;\n",
       "    }\n",
       "\n",
       "    .dataframe tbody tr th {\n",
       "        vertical-align: top;\n",
       "    }\n",
       "\n",
       "    .dataframe thead th {\n",
       "        text-align: right;\n",
       "    }\n",
       "</style>\n",
       "<table border=\"1\" class=\"dataframe\">\n",
       "  <thead>\n",
       "    <tr style=\"text-align: right;\">\n",
       "      <th></th>\n",
       "      <th>지역별</th>\n",
       "      <th>시점</th>\n",
       "      <th>여객 (명)</th>\n",
       "      <th>여객 (천 명)</th>\n",
       "    </tr>\n",
       "  </thead>\n",
       "  <tbody>\n",
       "    <tr>\n",
       "      <th>0</th>\n",
       "      <td>미주</td>\n",
       "      <td>2013년 01월</td>\n",
       "      <td>170188</td>\n",
       "      <td>170.19</td>\n",
       "    </tr>\n",
       "    <tr>\n",
       "      <th>1</th>\n",
       "      <td>미주</td>\n",
       "      <td>2013년 02월</td>\n",
       "      <td>148109</td>\n",
       "      <td>148.11</td>\n",
       "    </tr>\n",
       "    <tr>\n",
       "      <th>2</th>\n",
       "      <td>미주</td>\n",
       "      <td>2013년 03월</td>\n",
       "      <td>164686</td>\n",
       "      <td>164.69</td>\n",
       "    </tr>\n",
       "  </tbody>\n",
       "</table>\n",
       "</div>"
      ],
      "text/plain": [
       "  지역별         시점  여객 (명)  여객 (천 명)\n",
       "0  미주  2013년 01월  170188    170.19\n",
       "1  미주  2013년 02월  148109    148.11\n",
       "2  미주  2013년 03월  164686    164.69"
      ]
     },
     "execution_count": 12,
     "metadata": {},
     "output_type": "execute_result"
    }
   ],
   "source": [
    "df_inter = inter.groupby(['지역별','시점'])['여객 (명)'].sum().reset_index()\n",
    "df_inter['여객 (천 명)'] = round(df_inter['여객 (명)']/1000,2)\n",
    "df_inter.head(3)"
   ]
  },
  {
   "cell_type": "markdown",
   "id": "6e9c402f",
   "metadata": {},
   "source": [
    "국내 항공여객(2020년 2월 부터) 과 시점 통일"
   ]
  },
  {
   "cell_type": "code",
   "execution_count": 13,
   "id": "b44fbbbe",
   "metadata": {},
   "outputs": [
    {
     "data": {
      "text/html": [
       "<div>\n",
       "<style scoped>\n",
       "    .dataframe tbody tr th:only-of-type {\n",
       "        vertical-align: middle;\n",
       "    }\n",
       "\n",
       "    .dataframe tbody tr th {\n",
       "        vertical-align: top;\n",
       "    }\n",
       "\n",
       "    .dataframe thead th {\n",
       "        text-align: right;\n",
       "    }\n",
       "</style>\n",
       "<table border=\"1\" class=\"dataframe\">\n",
       "  <thead>\n",
       "    <tr style=\"text-align: right;\">\n",
       "      <th></th>\n",
       "      <th>지역별</th>\n",
       "      <th>시점</th>\n",
       "      <th>여객 (명)</th>\n",
       "      <th>여객 (천 명)</th>\n",
       "    </tr>\n",
       "  </thead>\n",
       "  <tbody>\n",
       "    <tr>\n",
       "      <th>0</th>\n",
       "      <td>미주</td>\n",
       "      <td>2013년 01월</td>\n",
       "      <td>170188</td>\n",
       "      <td>170.19</td>\n",
       "    </tr>\n",
       "    <tr>\n",
       "      <th>1</th>\n",
       "      <td>미주</td>\n",
       "      <td>2013년 02월</td>\n",
       "      <td>148109</td>\n",
       "      <td>148.11</td>\n",
       "    </tr>\n",
       "    <tr>\n",
       "      <th>2</th>\n",
       "      <td>미주</td>\n",
       "      <td>2013년 03월</td>\n",
       "      <td>164686</td>\n",
       "      <td>164.69</td>\n",
       "    </tr>\n",
       "  </tbody>\n",
       "</table>\n",
       "</div>"
      ],
      "text/plain": [
       "  지역별         시점  여객 (명)  여객 (천 명)\n",
       "0  미주  2013년 01월  170188    170.19\n",
       "1  미주  2013년 02월  148109    148.11\n",
       "2  미주  2013년 03월  164686    164.69"
      ]
     },
     "execution_count": 13,
     "metadata": {},
     "output_type": "execute_result"
    }
   ],
   "source": [
    "# 전체데이터 백업\n",
    "inter_full = df_inter.copy()\n",
    "inter_full.head(3)"
   ]
  },
  {
   "cell_type": "code",
   "execution_count": 14,
   "id": "a54ae6d3",
   "metadata": {
    "scrolled": true
   },
   "outputs": [
    {
     "data": {
      "text/html": [
       "<div>\n",
       "<style scoped>\n",
       "    .dataframe tbody tr th:only-of-type {\n",
       "        vertical-align: middle;\n",
       "    }\n",
       "\n",
       "    .dataframe tbody tr th {\n",
       "        vertical-align: top;\n",
       "    }\n",
       "\n",
       "    .dataframe thead th {\n",
       "        text-align: right;\n",
       "    }\n",
       "</style>\n",
       "<table border=\"1\" class=\"dataframe\">\n",
       "  <thead>\n",
       "    <tr style=\"text-align: right;\">\n",
       "      <th></th>\n",
       "      <th>지역별</th>\n",
       "      <th>시점</th>\n",
       "      <th>여객 (명)</th>\n",
       "      <th>여객 (천 명)</th>\n",
       "    </tr>\n",
       "  </thead>\n",
       "  <tbody>\n",
       "    <tr>\n",
       "      <th>85</th>\n",
       "      <td>미주</td>\n",
       "      <td>2020년 02월</td>\n",
       "      <td>186392</td>\n",
       "      <td>186.39</td>\n",
       "    </tr>\n",
       "    <tr>\n",
       "      <th>86</th>\n",
       "      <td>미주</td>\n",
       "      <td>2020년 03월</td>\n",
       "      <td>69372</td>\n",
       "      <td>69.37</td>\n",
       "    </tr>\n",
       "    <tr>\n",
       "      <th>87</th>\n",
       "      <td>미주</td>\n",
       "      <td>2020년 04월</td>\n",
       "      <td>37446</td>\n",
       "      <td>37.45</td>\n",
       "    </tr>\n",
       "  </tbody>\n",
       "</table>\n",
       "</div>"
      ],
      "text/plain": [
       "   지역별         시점  여객 (명)  여객 (천 명)\n",
       "85  미주  2020년 02월  186392    186.39\n",
       "86  미주  2020년 03월   69372     69.37\n",
       "87  미주  2020년 04월   37446     37.45"
      ]
     },
     "execution_count": 14,
     "metadata": {},
     "output_type": "execute_result"
    }
   ],
   "source": [
    "df_inter = df_inter[df_inter['시점'] > '2020년 01월']\n",
    "df_inter.head(3)"
   ]
  },
  {
   "cell_type": "markdown",
   "id": "983dff70",
   "metadata": {},
   "source": [
    "국내, 국외 항공여객 concat"
   ]
  },
  {
   "cell_type": "code",
   "execution_count": 15,
   "id": "3a0d3e00",
   "metadata": {
    "scrolled": true
   },
   "outputs": [
    {
     "data": {
      "text/html": [
       "<div>\n",
       "<style scoped>\n",
       "    .dataframe tbody tr th:only-of-type {\n",
       "        vertical-align: middle;\n",
       "    }\n",
       "\n",
       "    .dataframe tbody tr th {\n",
       "        vertical-align: top;\n",
       "    }\n",
       "\n",
       "    .dataframe thead th {\n",
       "        text-align: right;\n",
       "    }\n",
       "</style>\n",
       "<table border=\"1\" class=\"dataframe\">\n",
       "  <thead>\n",
       "    <tr style=\"text-align: right;\">\n",
       "      <th></th>\n",
       "      <th>지역별</th>\n",
       "      <th>시점</th>\n",
       "      <th>여객 (명)</th>\n",
       "      <th>여객 (천 명)</th>\n",
       "    </tr>\n",
       "  </thead>\n",
       "  <tbody>\n",
       "    <tr>\n",
       "      <th>0</th>\n",
       "      <td>미주</td>\n",
       "      <td>2020년 02월</td>\n",
       "      <td>186392</td>\n",
       "      <td>186.39</td>\n",
       "    </tr>\n",
       "    <tr>\n",
       "      <th>1</th>\n",
       "      <td>미주</td>\n",
       "      <td>2020년 03월</td>\n",
       "      <td>69372</td>\n",
       "      <td>69.37</td>\n",
       "    </tr>\n",
       "    <tr>\n",
       "      <th>2</th>\n",
       "      <td>미주</td>\n",
       "      <td>2020년 04월</td>\n",
       "      <td>37446</td>\n",
       "      <td>37.45</td>\n",
       "    </tr>\n",
       "  </tbody>\n",
       "</table>\n",
       "</div>"
      ],
      "text/plain": [
       "  지역별         시점  여객 (명)  여객 (천 명)\n",
       "0  미주  2020년 02월  186392    186.39\n",
       "1  미주  2020년 03월   69372     69.37\n",
       "2  미주  2020년 04월   37446     37.45"
      ]
     },
     "metadata": {},
     "output_type": "display_data"
    },
    {
     "data": {
      "text/html": [
       "<div>\n",
       "<style scoped>\n",
       "    .dataframe tbody tr th:only-of-type {\n",
       "        vertical-align: middle;\n",
       "    }\n",
       "\n",
       "    .dataframe tbody tr th {\n",
       "        vertical-align: top;\n",
       "    }\n",
       "\n",
       "    .dataframe thead th {\n",
       "        text-align: right;\n",
       "    }\n",
       "</style>\n",
       "<table border=\"1\" class=\"dataframe\">\n",
       "  <thead>\n",
       "    <tr style=\"text-align: right;\">\n",
       "      <th></th>\n",
       "      <th>지역별</th>\n",
       "      <th>시점</th>\n",
       "      <th>여객 (명)</th>\n",
       "      <th>여객 (천 명)</th>\n",
       "    </tr>\n",
       "  </thead>\n",
       "  <tbody>\n",
       "    <tr>\n",
       "      <th>201</th>\n",
       "      <td>제주</td>\n",
       "      <td>2022년 09월</td>\n",
       "      <td>1149171</td>\n",
       "      <td>1149.17</td>\n",
       "    </tr>\n",
       "    <tr>\n",
       "      <th>202</th>\n",
       "      <td>제주</td>\n",
       "      <td>2022년 10월</td>\n",
       "      <td>1395576</td>\n",
       "      <td>1395.58</td>\n",
       "    </tr>\n",
       "    <tr>\n",
       "      <th>203</th>\n",
       "      <td>제주</td>\n",
       "      <td>2022년 11월</td>\n",
       "      <td>1231359</td>\n",
       "      <td>1231.36</td>\n",
       "    </tr>\n",
       "  </tbody>\n",
       "</table>\n",
       "</div>"
      ],
      "text/plain": [
       "    지역별         시점   여객 (명)  여객 (천 명)\n",
       "201  제주  2022년 09월  1149171   1149.17\n",
       "202  제주  2022년 10월  1395576   1395.58\n",
       "203  제주  2022년 11월  1231359   1231.36"
      ]
     },
     "metadata": {},
     "output_type": "display_data"
    }
   ],
   "source": [
    "df = pd.concat([df_inter, df_jeju]).reset_index(drop=True)\n",
    "display(df.head(3))\n",
    "display(df.tail(3))"
   ]
  },
  {
   "cell_type": "markdown",
   "id": "60c6e6d3",
   "metadata": {},
   "source": [
    "## 코로나 확진자 data"
   ]
  },
  {
   "cell_type": "code",
   "execution_count": 16,
   "id": "f58de90d",
   "metadata": {
    "scrolled": true
   },
   "outputs": [
    {
     "data": {
      "text/html": [
       "<div>\n",
       "<style scoped>\n",
       "    .dataframe tbody tr th:only-of-type {\n",
       "        vertical-align: middle;\n",
       "    }\n",
       "\n",
       "    .dataframe tbody tr th {\n",
       "        vertical-align: top;\n",
       "    }\n",
       "\n",
       "    .dataframe thead th {\n",
       "        text-align: right;\n",
       "    }\n",
       "</style>\n",
       "<table border=\"1\" class=\"dataframe\">\n",
       "  <thead>\n",
       "    <tr style=\"text-align: right;\">\n",
       "      <th></th>\n",
       "      <th>시점</th>\n",
       "      <th>확진자 수</th>\n",
       "      <th>확진자 (천 명)</th>\n",
       "    </tr>\n",
       "  </thead>\n",
       "  <tbody>\n",
       "    <tr>\n",
       "      <th>0</th>\n",
       "      <td>2020년 02월</td>\n",
       "      <td>2920</td>\n",
       "      <td>2.92</td>\n",
       "    </tr>\n",
       "    <tr>\n",
       "      <th>1</th>\n",
       "      <td>2020년 03월</td>\n",
       "      <td>6855</td>\n",
       "      <td>6.86</td>\n",
       "    </tr>\n",
       "    <tr>\n",
       "      <th>2</th>\n",
       "      <td>2020년 04월</td>\n",
       "      <td>979</td>\n",
       "      <td>0.98</td>\n",
       "    </tr>\n",
       "  </tbody>\n",
       "</table>\n",
       "</div>"
      ],
      "text/plain": [
       "          시점  확진자 수  확진자 (천 명)\n",
       "0  2020년 02월   2920       2.92\n",
       "1  2020년 03월   6855       6.86\n",
       "2  2020년 04월    979       0.98"
      ]
     },
     "execution_count": 16,
     "metadata": {},
     "output_type": "execute_result"
    }
   ],
   "source": [
    "co = pd.read_csv('./input/covid.csv', encoding='cp949')\n",
    "co['확진자 (천 명)'] = round(co['확진자 수']/1000,2)\n",
    "co.head(3)"
   ]
  },
  {
   "cell_type": "markdown",
   "id": "e1494a7a",
   "metadata": {},
   "source": [
    "# 시각화"
   ]
  },
  {
   "cell_type": "code",
   "execution_count": 17,
   "id": "74564e54",
   "metadata": {
    "scrolled": false
   },
   "outputs": [
    {
     "data": {
      "image/png": "[encoded data removed]",
      "text/plain": [
       "<Figure size 864x360 with 2 Axes>"
      ]
     },
     "metadata": {
      "needs_background": "light"
     },
     "output_type": "display_data"
    }
   ],
   "source": [
    "plt.figure(figsize=(12,5))\n",
    "\n",
    "sns.lineplot(x='시점', y='여객 (천 명)',data=df, hue='지역별', lw=1.5, ls=':')\n",
    "\n",
    "plt.xticks(rotation=90)\n",
    "plt.xlabel('월별')\n",
    "plt.legend(ncol=3, loc=2)\n",
    "\n",
    "ax2 = plt.twinx()\n",
    "sns.barplot(x='시점', y='확진자 (천 명)',data=co, ax=ax2, color='blue', alpha=0.2, label='확진자 수')\n",
    "plt.ylabel('확진자 수(천 명)')\n",
    "plt.yscale('log')\n",
    "plt.legend(loc=(0.008,0.78))\n",
    "\n",
    "plt.title('목적지 별 항공 여객 및 \\n covid-19 확진자 수 변화', size=17)\n",
    "\n",
    "plt.show()"
   ]
  },
  {
   "cell_type": "code",
   "execution_count": 18,
   "id": "c77701bf",
   "metadata": {},
   "outputs": [
    {
     "data": {
      "image/png": "[encoded data removed]",
      "text/plain": [
       "<Figure size 864x360 with 1 Axes>"
      ]
     },
     "metadata": {
      "needs_background": "light"
     },
     "output_type": "display_data"
    }
   ],
   "source": [
    "plt.figure(figsize=(12,5))\n",
    "\n",
    "sns.lineplot(x='시점', y='여객 (천 명)',data=inter_full, hue='지역별', lw=1.5, alpha=0.4)\n",
    "plt.axvline(x='2020년 01월', color='k', ls='--', lw=2, alpha=0.8)\n",
    "\n",
    "\n",
    "labels = [f'20{i}년 01월' for i in range(13, 24)]\n",
    "plt.xticks(labels,rotation=90)\n",
    "plt.xlabel('월별')\n",
    "plt.legend(ncol=5, loc=2)\n",
    "\n",
    "plt.title('목적지 별 항공 여객 수 변화 (2013~2022)', size=17)\n",
    "plt.text(85, 1750, '국내 코로나확진자 최초발생', color='k', size=12)\n",
    "\n",
    "plt.show()"
   ]
  }
 ],
 "metadata": {
  "kernelspec": {
   "display_name": "Python 3 (ipykernel)",
   "language": "python",
   "name": "python3"
  },
  "language_info": {
   "codemirror_mode": {
    "name": "ipython",
    "version": 3
   },
   "file_extension": ".py",
   "mimetype": "text/x-python",
   "name": "python",
   "nbconvert_exporter": "python",
   "pygments_lexer": "ipython3",
   "version": "3.9.7"
  },
  "toc": {
   "base_numbering": 1,
   "nav_menu": {},
   "number_sections": true,
   "sideBar": true,
   "skip_h1_title": false,
   "title_cell": "Table of Contents",
   "title_sidebar": "Contents",
   "toc_cell": false,
   "toc_position": {},
   "toc_section_display": true,
   "toc_window_display": true
  }
 },
 "nbformat": 4,
 "nbformat_minor": 5
}
